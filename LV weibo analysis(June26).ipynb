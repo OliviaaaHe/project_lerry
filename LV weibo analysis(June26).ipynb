{
 "cells": [
  {
   "cell_type": "markdown",
   "metadata": {},
   "source": [
    "# LV Weibo Analysis\n",
    "## Author: Peiyu Xu\n",
    "### Axiom Tech Consulting"
   ]
  },
  {
   "cell_type": "markdown",
   "metadata": {},
   "source": [
    "#### Description:\n",
    "Data is collected from LV China's Official Sina Weibo account.It includes all original weibo and repost weibo.\n",
    "\n",
    "Main page:https://weibo.com/louisvuitton?topnav=1&wvr=6&topsug=1\n",
    "\n",
    "Crawler credit to:https://github.com/dataabc/weiboSpider\n"
   ]
  },
  {
   "cell_type": "markdown",
   "metadata": {},
   "source": [
    "## Analysis Plan\n",
    "1. EDA for numerical variables [Finished]\n",
    "2. Content anlysis [Finished]\n",
    "   -  extract hashtags\n",
    "   - extract @ (celebrities)\n",
    "3. Transform Time variable\n",
    "4. Visualization / correlation among different numerical variables\n",
    "5. NLP\n",
    "   - PKUSEG: Chinese words. segment 'content' \n",
    "   - NLTK: n-gram analysis, tf-idf"
   ]
  },
  {
   "cell_type": "code",
   "execution_count": 1,
   "metadata": {},
   "outputs": [],
   "source": [
    "# import packages\n",
    "import pandas as pd\n",
    "import jieba\n",
    "import jieba.analyse\n",
    "import matplotlib.pyplot as plt\n",
    "import numpy as np\n",
    "import chardet\n",
    "from wordcloud import WordCloud,STOPWORDS\n",
    "import thulac\n",
    "import matplotlib.pyplot as plt\n",
    "import seaborn as sns\n",
    "%matplotlib inline\n",
    "import re"
   ]
  },
  {
   "cell_type": "code",
   "execution_count": 2,
   "metadata": {},
   "outputs": [
    {
     "name": "stdout",
     "output_type": "stream",
     "text": [
      "(2285, 9)\n"
     ]
    }
   ],
   "source": [
    "# import LV_weibo.csv\n",
    "data=pd.read_csv(r\"LV_weibo.csv\")\n",
    "# dimensons\n",
    "print(data.shape)"
   ]
  },
  {
   "cell_type": "markdown",
   "metadata": {},
   "source": [
    "2,285 records and 9 columns"
   ]
  },
  {
   "cell_type": "code",
   "execution_count": 3,
   "metadata": {},
   "outputs": [
    {
     "data": {
      "text/plain": [
       "weibo_id       object\n",
       "content        object\n",
       "picture_url    object\n",
       "location       object\n",
       "time           object\n",
       "tool           object\n",
       "up              int64\n",
       "repost          int64\n",
       "comment         int64\n",
       "dtype: object"
      ]
     },
     "execution_count": 3,
     "metadata": {},
     "output_type": "execute_result"
    }
   ],
   "source": [
    "# check column names and data types\n",
    "data.dtypes\n",
    "#I've renamed column headers manually. In the crawler, headers are definded in Chinese. \n",
    "#You can change the headers using the following code.\n",
    "#data.rename(columns={'微博id':'weibo_id','微博正文':'content','原始图片url':'pic_url','发布位置':'location','发布时间':'time','发布工具':'tool','点赞数':'up','转发数':'repost','评论数':'comment'},inplace=True)"
   ]
  },
  {
   "cell_type": "code",
   "execution_count": 4,
   "metadata": {
    "scrolled": false
   },
   "outputs": [
    {
     "data": {
      "text/html": [
       "<div>\n",
       "<style scoped>\n",
       "    .dataframe tbody tr th:only-of-type {\n",
       "        vertical-align: middle;\n",
       "    }\n",
       "\n",
       "    .dataframe tbody tr th {\n",
       "        vertical-align: top;\n",
       "    }\n",
       "\n",
       "    .dataframe thead th {\n",
       "        text-align: right;\n",
       "    }\n",
       "</style>\n",
       "<table border=\"1\" class=\"dataframe\">\n",
       "  <thead>\n",
       "    <tr style=\"text-align: right;\">\n",
       "      <th></th>\n",
       "      <th>weibo_id</th>\n",
       "      <th>content</th>\n",
       "      <th>picture_url</th>\n",
       "      <th>location</th>\n",
       "      <th>time</th>\n",
       "      <th>tool</th>\n",
       "      <th>up</th>\n",
       "      <th>repost</th>\n",
       "      <th>comment</th>\n",
       "    </tr>\n",
       "  </thead>\n",
       "  <tbody>\n",
       "    <tr>\n",
       "      <th>0</th>\n",
       "      <td>HzlqJ9A6A</td>\n",
       "      <td>聆听时间齿轮运行之音，在#路易威登时间锦囊#成都展览见证精湛工艺的历久传承。品牌精心挑选数件...</td>\n",
       "      <td>http://ww2.sinaimg.cn/large/6d6f3290gy1g448qk3...</td>\n",
       "      <td>无</td>\n",
       "      <td>6/17/2019 18:30</td>\n",
       "      <td>微博 weibo.com</td>\n",
       "      <td>199</td>\n",
       "      <td>39</td>\n",
       "      <td>30</td>\n",
       "    </tr>\n",
       "    <tr>\n",
       "      <th>1</th>\n",
       "      <td>HzcoABt4A</td>\n",
       "      <td>路易威登 B Blossom 全新珠宝系列中，球面星形花卉灵感来源自 Monogram 印花...</td>\n",
       "      <td>http://ww4.sinaimg.cn/large/6d6f3290gy1g434d0o...</td>\n",
       "      <td>无</td>\n",
       "      <td>6/16/2019 19:30</td>\n",
       "      <td>微博 weibo.com</td>\n",
       "      <td>205</td>\n",
       "      <td>26</td>\n",
       "      <td>27</td>\n",
       "    </tr>\n",
       "    <tr>\n",
       "      <th>2</th>\n",
       "      <td>HyTlqdrWo</td>\n",
       "      <td>#路易威登时间锦囊#成都展览中的「魔力之箱」领域，呈现一段沉浸式品牌之旅。硬箱设计解构品牌标...</td>\n",
       "      <td>http://wx2.sinaimg.cn/large/6d6f3290gy1g40si7u...</td>\n",
       "      <td>无</td>\n",
       "      <td>6/14/2019 19:00</td>\n",
       "      <td>微博 weibo.com</td>\n",
       "      <td>147</td>\n",
       "      <td>16</td>\n",
       "      <td>13</td>\n",
       "    </tr>\n",
       "    <tr>\n",
       "      <th>3</th>\n",
       "      <td>HySX4eQNH</td>\n",
       "      <td>路易威登 LV RAINBOW 太阳眼镜，灵感来源 2019 春夏秀场的斑斓色彩，百搭设计开...</td>\n",
       "      <td>无</td>\n",
       "      <td>无</td>\n",
       "      <td>6/14/2019 18:00</td>\n",
       "      <td>微博 weibo.com</td>\n",
       "      <td>2311</td>\n",
       "      <td>1871</td>\n",
       "      <td>482</td>\n",
       "    </tr>\n",
       "    <tr>\n",
       "      <th>4</th>\n",
       "      <td>HyRbt907h</td>\n",
       "      <td>糅合经典元素，品牌创作专属贴纸，为#路易威登时间锦囊#成都展览增色。将这份纪念收入囊中，成为...</td>\n",
       "      <td>http://ww3.sinaimg.cn/large/6d6f3290gy1g40lgbv...</td>\n",
       "      <td>无</td>\n",
       "      <td>6/14/2019 13:30</td>\n",
       "      <td>微博 weibo.com</td>\n",
       "      <td>304</td>\n",
       "      <td>71</td>\n",
       "      <td>38</td>\n",
       "    </tr>\n",
       "  </tbody>\n",
       "</table>\n",
       "</div>"
      ],
      "text/plain": [
       "    weibo_id                                            content  \\\n",
       "0  HzlqJ9A6A  聆听时间齿轮运行之音，在#路易威登时间锦囊#成都展览见证精湛工艺的历久传承。品牌精心挑选数件...   \n",
       "1  HzcoABt4A  路易威登 B Blossom 全新珠宝系列中，球面星形花卉灵感来源自 Monogram 印花...   \n",
       "2  HyTlqdrWo  #路易威登时间锦囊#成都展览中的「魔力之箱」领域，呈现一段沉浸式品牌之旅。硬箱设计解构品牌标...   \n",
       "3  HySX4eQNH  路易威登 LV RAINBOW 太阳眼镜，灵感来源 2019 春夏秀场的斑斓色彩，百搭设计开...   \n",
       "4  HyRbt907h  糅合经典元素，品牌创作专属贴纸，为#路易威登时间锦囊#成都展览增色。将这份纪念收入囊中，成为...   \n",
       "\n",
       "                                         picture_url location  \\\n",
       "0  http://ww2.sinaimg.cn/large/6d6f3290gy1g448qk3...        无   \n",
       "1  http://ww4.sinaimg.cn/large/6d6f3290gy1g434d0o...        无   \n",
       "2  http://wx2.sinaimg.cn/large/6d6f3290gy1g40si7u...        无   \n",
       "3                                                  无        无   \n",
       "4  http://ww3.sinaimg.cn/large/6d6f3290gy1g40lgbv...        无   \n",
       "\n",
       "              time          tool    up  repost  comment  \n",
       "0  6/17/2019 18:30  微博 weibo.com   199      39       30  \n",
       "1  6/16/2019 19:30  微博 weibo.com   205      26       27  \n",
       "2  6/14/2019 19:00  微博 weibo.com   147      16       13  \n",
       "3  6/14/2019 18:00  微博 weibo.com  2311    1871      482  \n",
       "4  6/14/2019 13:30  微博 weibo.com   304      71       38  "
      ]
     },
     "execution_count": 4,
     "metadata": {},
     "output_type": "execute_result"
    }
   ],
   "source": [
    "# head 5 records\n",
    "data.head()"
   ]
  },
  {
   "cell_type": "markdown",
   "metadata": {},
   "source": [
    "## EDA"
   ]
  },
  {
   "cell_type": "code",
   "execution_count": 5,
   "metadata": {
    "scrolled": true
   },
   "outputs": [
    {
     "data": {
      "text/html": [
       "<div>\n",
       "<style scoped>\n",
       "    .dataframe tbody tr th:only-of-type {\n",
       "        vertical-align: middle;\n",
       "    }\n",
       "\n",
       "    .dataframe tbody tr th {\n",
       "        vertical-align: top;\n",
       "    }\n",
       "\n",
       "    .dataframe thead th {\n",
       "        text-align: right;\n",
       "    }\n",
       "</style>\n",
       "<table border=\"1\" class=\"dataframe\">\n",
       "  <thead>\n",
       "    <tr style=\"text-align: right;\">\n",
       "      <th></th>\n",
       "      <th>up</th>\n",
       "      <th>repost</th>\n",
       "      <th>comment</th>\n",
       "    </tr>\n",
       "  </thead>\n",
       "  <tbody>\n",
       "    <tr>\n",
       "      <th>count</th>\n",
       "      <td>2285.000000</td>\n",
       "      <td>2285.000000</td>\n",
       "      <td>2285.000000</td>\n",
       "    </tr>\n",
       "    <tr>\n",
       "      <th>mean</th>\n",
       "      <td>967.557987</td>\n",
       "      <td>6121.360175</td>\n",
       "      <td>480.472210</td>\n",
       "    </tr>\n",
       "    <tr>\n",
       "      <th>std</th>\n",
       "      <td>6952.005086</td>\n",
       "      <td>58180.091735</td>\n",
       "      <td>3073.492308</td>\n",
       "    </tr>\n",
       "    <tr>\n",
       "      <th>min</th>\n",
       "      <td>0.000000</td>\n",
       "      <td>0.000000</td>\n",
       "      <td>0.000000</td>\n",
       "    </tr>\n",
       "    <tr>\n",
       "      <th>25%</th>\n",
       "      <td>18.000000</td>\n",
       "      <td>17.000000</td>\n",
       "      <td>12.000000</td>\n",
       "    </tr>\n",
       "    <tr>\n",
       "      <th>50%</th>\n",
       "      <td>125.000000</td>\n",
       "      <td>38.000000</td>\n",
       "      <td>25.000000</td>\n",
       "    </tr>\n",
       "    <tr>\n",
       "      <th>75%</th>\n",
       "      <td>270.000000</td>\n",
       "      <td>115.000000</td>\n",
       "      <td>65.000000</td>\n",
       "    </tr>\n",
       "    <tr>\n",
       "      <th>max</th>\n",
       "      <td>261983.000000</td>\n",
       "      <td>1000000.000000</td>\n",
       "      <td>56674.000000</td>\n",
       "    </tr>\n",
       "  </tbody>\n",
       "</table>\n",
       "</div>"
      ],
      "text/plain": [
       "                  up          repost       comment\n",
       "count    2285.000000     2285.000000   2285.000000\n",
       "mean      967.557987     6121.360175    480.472210\n",
       "std      6952.005086    58180.091735   3073.492308\n",
       "min         0.000000        0.000000      0.000000\n",
       "25%        18.000000       17.000000     12.000000\n",
       "50%       125.000000       38.000000     25.000000\n",
       "75%       270.000000      115.000000     65.000000\n",
       "max    261983.000000  1000000.000000  56674.000000"
      ]
     },
     "execution_count": 5,
     "metadata": {},
     "output_type": "execute_result"
    }
   ],
   "source": [
    "# get summary statistics for numeric variables\n",
    "data.describe()"
   ]
  },
  {
   "cell_type": "markdown",
   "metadata": {},
   "source": [
    "Some outliers have been noticed."
   ]
  },
  {
   "cell_type": "code",
   "execution_count": 6,
   "metadata": {},
   "outputs": [
    {
     "data": {
      "text/plain": [
       "weibo_id       0\n",
       "content        0\n",
       "picture_url    0\n",
       "location       0\n",
       "time           0\n",
       "tool           0\n",
       "up             0\n",
       "repost         0\n",
       "comment        0\n",
       "dtype: int64"
      ]
     },
     "execution_count": 6,
     "metadata": {},
     "output_type": "execute_result"
    }
   ],
   "source": [
    "# missing values\n",
    "data.isnull().sum()"
   ]
  },
  {
   "cell_type": "code",
   "execution_count": 7,
   "metadata": {},
   "outputs": [
    {
     "data": {
      "text/html": [
       "<div>\n",
       "<style scoped>\n",
       "    .dataframe tbody tr th:only-of-type {\n",
       "        vertical-align: middle;\n",
       "    }\n",
       "\n",
       "    .dataframe tbody tr th {\n",
       "        vertical-align: top;\n",
       "    }\n",
       "\n",
       "    .dataframe thead th {\n",
       "        text-align: right;\n",
       "    }\n",
       "</style>\n",
       "<table border=\"1\" class=\"dataframe\">\n",
       "  <thead>\n",
       "    <tr style=\"text-align: right;\">\n",
       "      <th></th>\n",
       "      <th>up</th>\n",
       "      <th>repost</th>\n",
       "      <th>comment</th>\n",
       "    </tr>\n",
       "  </thead>\n",
       "  <tbody>\n",
       "    <tr>\n",
       "      <th>up</th>\n",
       "      <td>1.000000</td>\n",
       "      <td>0.475995</td>\n",
       "      <td>0.791032</td>\n",
       "    </tr>\n",
       "    <tr>\n",
       "      <th>repost</th>\n",
       "      <td>0.475995</td>\n",
       "      <td>1.000000</td>\n",
       "      <td>0.724529</td>\n",
       "    </tr>\n",
       "    <tr>\n",
       "      <th>comment</th>\n",
       "      <td>0.791032</td>\n",
       "      <td>0.724529</td>\n",
       "      <td>1.000000</td>\n",
       "    </tr>\n",
       "  </tbody>\n",
       "</table>\n",
       "</div>"
      ],
      "text/plain": [
       "               up    repost   comment\n",
       "up       1.000000  0.475995  0.791032\n",
       "repost   0.475995  1.000000  0.724529\n",
       "comment  0.791032  0.724529  1.000000"
      ]
     },
     "execution_count": 7,
     "metadata": {},
     "output_type": "execute_result"
    }
   ],
   "source": [
    "# check pearson correlation\n",
    "data.corr()"
   ]
  },
  {
   "cell_type": "code",
   "execution_count": 8,
   "metadata": {
    "scrolled": false
   },
   "outputs": [
    {
     "data": {
      "image/png": "[encoded data removed]",
      "text/plain": [
       "<Figure size 720x576 with 1 Axes>"
      ]
     },
     "metadata": {
      "needs_background": "light"
     },
     "output_type": "display_data"
    }
   ],
   "source": [
    "# vertical box plot\n",
    "data[['up','repost','comment']].plot(kind='box', figsize=(10,8))\n",
    "plt.title('Box Plot for LV''s weibo')\n",
    "plt.ylabel('Number')\n",
    "plt.show()"
   ]
  },
  {
   "cell_type": "code",
   "execution_count": null,
   "metadata": {},
   "outputs": [],
   "source": [
    "# Text Analysis"
   ]
  },
  {
   "cell_type": "code",
   "execution_count": 10,
   "metadata": {},
   "outputs": [
    {
     "name": "stdout",
     "output_type": "stream",
     "text": [
      "copy finished\n"
     ]
    },
    {
     "data": {
      "text/plain": [
       "(2285, 9)"
      ]
     },
     "execution_count": 10,
     "metadata": {},
     "output_type": "execute_result"
    }
   ],
   "source": [
    "# a copy\n",
    "df = data.copy()\n",
    "print('copy finished')\n",
    "df.shape"
   ]
  },
  {
   "cell_type": "code",
   "execution_count": 23,
   "metadata": {
    "scrolled": false
   },
   "outputs": [
    {
     "name": "stderr",
     "output_type": "stream",
     "text": [
      "D:\\Anaconda3\\lib\\site-packages\\ipykernel_launcher.py:4: SettingWithCopyWarning: \n",
      "A value is trying to be set on a copy of a slice from a DataFrame\n",
      "\n",
      "See the caveats in the documentation: http://pandas.pydata.org/pandas-docs/stable/indexing.html#indexing-view-versus-copy\n",
      "  after removing the cwd from sys.path.\n",
      "D:\\Anaconda3\\lib\\site-packages\\pandas\\core\\indexing.py:190: SettingWithCopyWarning: \n",
      "A value is trying to be set on a copy of a slice from a DataFrame\n",
      "\n",
      "See the caveats in the documentation: http://pandas.pydata.org/pandas-docs/stable/indexing.html#indexing-view-versus-copy\n",
      "  self._setitem_with_indexer(indexer, value)\n"
     ]
    }
   ],
   "source": [
    "import re\n",
    "df['hashtag'] = 0\n",
    "for i in range(0, len(df['content'])):\n",
    "    df['hashtag'][i] = re.findall('#([^\\#|.]+)\\#',df['content'][i])    "
   ]
  },
  {
   "cell_type": "code",
   "execution_count": 24,
   "metadata": {
    "scrolled": false
   },
   "outputs": [
    {
     "name": "stderr",
     "output_type": "stream",
     "text": [
      "D:\\Anaconda3\\lib\\site-packages\\ipykernel_launcher.py:4: SettingWithCopyWarning: \n",
      "A value is trying to be set on a copy of a slice from a DataFrame\n",
      "\n",
      "See the caveats in the documentation: http://pandas.pydata.org/pandas-docs/stable/indexing.html#indexing-view-versus-copy\n",
      "  after removing the cwd from sys.path.\n"
     ]
    }
   ],
   "source": [
    "# count the number of hashtags in content\n",
    "df['hashtag_number'] = 0\n",
    "for i in range(0,len(df['hashtag'])):\n",
    "    df['hashtag_number'][i] = len(df['hashtag'][i])   "
   ]
  },
  {
   "cell_type": "code",
   "execution_count": 25,
   "metadata": {
    "scrolled": true
   },
   "outputs": [
    {
     "data": {
      "text/plain": [
       "count    2285.000000\n",
       "mean        0.561926\n",
       "std         0.559306\n",
       "min         0.000000\n",
       "25%         0.000000\n",
       "50%         1.000000\n",
       "75%         1.000000\n",
       "max         2.000000\n",
       "Name: hashtag_number, dtype: float64"
      ]
     },
     "execution_count": 25,
     "metadata": {},
     "output_type": "execute_result"
    }
   ],
   "source": [
    "# stat for 'hashtag_number'\n",
    "df['hashtag_number'].describe()"
   ]
  },
  {
   "cell_type": "code",
   "execution_count": 26,
   "metadata": {},
   "outputs": [
    {
     "data": {
      "text/plain": [
       "1    1132\n",
       "0    1077\n",
       "2      76\n",
       "Name: hashtag_number, dtype: int64"
      ]
     },
     "execution_count": 26,
     "metadata": {},
     "output_type": "execute_result"
    }
   ],
   "source": [
    "# frequency table for 'hashtag-number'\n",
    "df['hashtag_number'].value_counts()"
   ]
  },
  {
   "cell_type": "code",
   "execution_count": 27,
   "metadata": {},
   "outputs": [
    {
     "data": {
      "text/plain": [
       "(2285,)"
      ]
     },
     "execution_count": 27,
     "metadata": {},
     "output_type": "execute_result"
    }
   ],
   "source": [
    "df['content'].shape"
   ]
  },
  {
   "cell_type": "code",
   "execution_count": 66,
   "metadata": {
    "scrolled": false
   },
   "outputs": [
    {
     "name": "stderr",
     "output_type": "stream",
     "text": [
      "D:\\Anaconda3\\lib\\site-packages\\ipykernel_launcher.py:2: SettingWithCopyWarning: \n",
      "A value is trying to be set on a copy of a slice from a DataFrame\n",
      "\n",
      "See the caveats in the documentation: http://pandas.pydata.org/pandas-docs/stable/indexing.html#indexing-view-versus-copy\n",
      "  \n"
     ]
    }
   ],
   "source": [
    "# extract @ information\n",
    "# create a list called ['star']\n",
    "df['star'] = 0\n",
    "# please change the data type, otherwise will encounter \"ValueError:setting an array element with a sequence. \"\n",
    "df['star'] = df['star'].astype('object',inplace=True)\n",
    "# loop\n",
    "for i in range(0, len(df['content'])):\n",
    "    df['star'][i] = re.findall('@([^\\s|\\/|:|@]+)',df['content'][i])"
   ]
  },
  {
   "cell_type": "code",
   "execution_count": 68,
   "metadata": {},
   "outputs": [
    {
     "name": "stderr",
     "output_type": "stream",
     "text": [
      "D:\\Anaconda3\\lib\\site-packages\\ipykernel_launcher.py:4: SettingWithCopyWarning: \n",
      "A value is trying to be set on a copy of a slice from a DataFrame\n",
      "\n",
      "See the caveats in the documentation: http://pandas.pydata.org/pandas-docs/stable/indexing.html#indexing-view-versus-copy\n",
      "  after removing the cwd from sys.path.\n"
     ]
    },
    {
     "name": "stdout",
     "output_type": "stream",
     "text": [
      "extract @ number finished\n"
     ]
    }
   ],
   "source": [
    "# count the number of \"@\" in content\n",
    "df['star_number'] = 0\n",
    "for i in range(0,len(df['star'])):\n",
    "    df['star_number'][i] = len(df['star'][i])   \n",
    "print('extract @ number finished')"
   ]
  },
  {
   "cell_type": "code",
   "execution_count": 69,
   "metadata": {},
   "outputs": [
    {
     "data": {
      "text/plain": [
       "0     1950\n",
       "1      234\n",
       "2       55\n",
       "3       15\n",
       "4        8\n",
       "5        7\n",
       "7        5\n",
       "9        3\n",
       "8        3\n",
       "10       2\n",
       "6        2\n",
       "11       1\n",
       "Name: star_number, dtype: int64"
      ]
     },
     "execution_count": 69,
     "metadata": {},
     "output_type": "execute_result"
    }
   ],
   "source": [
    "# frequency table for 'star_number'\n",
    "df['star_number'].value_counts()"
   ]
  },
  {
   "cell_type": "code",
   "execution_count": 70,
   "metadata": {
    "scrolled": true
   },
   "outputs": [
    {
     "data": {
      "text/plain": [
       "count    2285.000000\n",
       "mean        0.256018\n",
       "std         0.891493\n",
       "min         0.000000\n",
       "25%         0.000000\n",
       "50%         0.000000\n",
       "75%         0.000000\n",
       "max        11.000000\n",
       "Name: star_number, dtype: float64"
      ]
     },
     "execution_count": 70,
     "metadata": {},
     "output_type": "execute_result"
    }
   ],
   "source": [
    "# stat for 'star_number'\n",
    "df['star_number'].describe()"
   ]
  },
  {
   "cell_type": "code",
   "execution_count": null,
   "metadata": {},
   "outputs": [],
   "source": []
  },
  {
   "cell_type": "code",
   "execution_count": null,
   "metadata": {},
   "outputs": [],
   "source": []
  },
  {
   "cell_type": "code",
   "execution_count": null,
   "metadata": {},
   "outputs": [],
   "source": []
  },
  {
   "cell_type": "code",
   "execution_count": null,
   "metadata": {},
   "outputs": [],
   "source": []
  },
  {
   "cell_type": "markdown",
   "metadata": {},
   "source": [
    "# Use PKUSEG"
   ]
  },
  {
   "cell_type": "code",
   "execution_count": 71,
   "metadata": {},
   "outputs": [
    {
     "name": "stdout",
     "output_type": "stream",
     "text": [
      "['率性', '而', '至', '，', '追逐', '真', '我', '。', '路易威登', '携手', '品牌', '挚友', '@', '钟楚曦', '，', 'Indya', 'Moore', '，', 'Chloë', 'Grace', 'Moret', 'z', '，', 'Sophie', 'Turner', '，', 'Signe', 'Veiteberg', '呈现', 'B.Blossom', '珠宝', '系列', '广告', '特辑', '，', '星形', '花卉', '灵感', '来源', '乔治', '-', '路易威登', '绘制', '的', 'Monogram', '图案', '。', '邀', '您', '登陆', '官网', '，', '探索', '更多', '。', '路易威登', '全新', '珠宝', '系列']\n"
     ]
    }
   ],
   "source": [
    "import pkuseg\n",
    "pkumodel = pkuseg.pkuseg(model_name = \"web\", user_dict = \"default\", postag = False)\n",
    "print(pkumodel.cut(df['content'][5]))"
   ]
  },
  {
   "cell_type": "code",
   "execution_count": 72,
   "metadata": {},
   "outputs": [
    {
     "name": "stdout",
     "output_type": "stream",
     "text": [
      "['率性', '而', '至', '，', '追逐', '真', '我', '。', '路易威登', '携手', '品牌', '挚友', '@', '钟楚曦', '，', 'Indya', 'Moore', '，', 'Chloë', 'Grace', 'Moretz', '，', 'Sophie', 'Turner', '，', 'Signe', 'Veiteberg', '呈现', 'B.Blossom', '珠宝', '系列', '广告', '特辑', '，', '星形', '花卉', '灵感', '来源', '乔治', '-', '路易威登', '绘制', '的', 'Monogram', '图案', '。', '邀', '您', '登陆', '官网', '，', '探索', '更', '多', '。', '路易威登', '全新', '珠宝', '系列']\n"
     ]
    }
   ],
   "source": [
    "import pkuseg\n",
    "pkumodel = pkuseg.pkuseg(model_name = \"default\", user_dict = \"default\", postag = False)\n",
    "print(pkumodel.cut(df['content'][5]))"
   ]
  }
 ],
 "metadata": {
  "kernelspec": {
   "display_name": "Python 3",
   "language": "python",
   "name": "python3"
  },
  "language_info": {
   "codemirror_mode": {
    "name": "ipython",
    "version": 3
   },
   "file_extension": ".py",
   "mimetype": "text/x-python",
   "name": "python",
   "nbconvert_exporter": "python",
   "pygments_lexer": "ipython3",
   "version": "3.6.7"
  }
 },
 "nbformat": 4,
 "nbformat_minor": 2
}
