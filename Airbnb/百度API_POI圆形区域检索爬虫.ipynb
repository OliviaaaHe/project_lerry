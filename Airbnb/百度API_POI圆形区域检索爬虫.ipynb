{
 "cells": [
  {
   "cell_type": "markdown",
   "metadata": {},
   "source": [
    "# 百度API_POI圆形区域检索爬虫"
   ]
  },
  {
   "cell_type": "markdown",
   "metadata": {},
   "source": [
    "## 需要自己申请密钥AK"
   ]
  },
  {
   "cell_type": "markdown",
   "metadata": {},
   "source": [
    "服务介绍：\n",
    "\n",
    "http://lbsyun.baidu.com/index.php?title=webapi/guide/webservice-placeapi\n",
    "\n",
    "url字段介绍：\n",
    "\n",
    "http://lbsyun.baidu.com/index.php?title=webapi/guide/webservice-placeapi\n",
    "\n",
    "https://blog.csdn.net/wang_306/article/details/25307893"
   ]
  },
  {
   "cell_type": "markdown",
   "metadata": {},
   "source": [
    "## 结果示例"
   ]
  },
  {
   "cell_type": "markdown",
   "metadata": {},
   "source": [
    "{\n",
    "\n",
    "'status': 0,\n",
    "\n",
    "\n",
    " 'message': 'ok',  **#爬取到啦！**\n",
    " \n",
    " \n",
    " 'total': 400,     **#一共有多少个**\n",
    " \n",
    " \n",
    " 'results': [{'name': '茶人之家', **#店铺名称**\n",
    " \n",
    " \n",
    "   'location': {'lat': 30.637946, 'lng': 104.155302},  **#百度经纬度*\n",
    "   \n",
    "   \n",
    "   'address': '成都市成华区金马河路8号附4号',   **#完整地址**\n",
    "   \n",
    "   \n",
    "   'province': '四川省',  **#省份**\n",
    "   \n",
    "   \n",
    "   'city': '成都市',  **#城市**\n",
    "   \n",
    "   \n",
    "   'area': '成华区', **#区域**\n",
    "   \n",
    "   \n",
    "   'street_id': '49255972902547ad2b201af5',  **#街道id**\n",
    "   \n",
    "   \n",
    "   'detail': 1,   **#是否显示细节**\n",
    "   \n",
    "   \n",
    "   'uid': '49255972902547ad2b201af5',\n",
    "   \n",
    "   \n",
    "   'detail_info': \n",
    "   \n",
    "   {\n",
    "   \n",
    "   'distance': 137,  **搜索点到这个POI的距离**\n",
    "   \n",
    "    'tag': '美食;小吃快餐店',      #标签，一级分类：二级分类\n",
    "    \n",
    "    'type': 'cater',  #类型：餐饮\n",
    "    \n",
    "    'detail_url': 'http://api.map.baidu.com/place/detail?uid=49255972902547ad2b201af5&output=html&source=placeapi_v2',\n",
    "    \n",
    "    'overall_rating': '3.5',\n",
    "    \n",
    "    'comment_num': '2',\n",
    "    \n",
    "    'children': []}}]\n",
    "    \n",
    "    }"
   ]
  },
  {
   "cell_type": "markdown",
   "metadata": {},
   "source": [
    "## 结果存储器"
   ]
  },
  {
   "cell_type": "code",
   "execution_count": null,
   "metadata": {},
   "outputs": [],
   "source": [
    "result = []\n",
    "latitude = []\n",
    "longitude = []\n",
    "listing_id = []\n",
    "total = []"
   ]
  },
  {
   "cell_type": "code",
   "execution_count": null,
   "metadata": {},
   "outputs": [],
   "source": [
    "import requests\n",
    "import pandas as pd\n",
    "import json\n",
    "import math\n",
    "import time\n",
    "import random\n",
    "import numpy as np"
   ]
  },
  {
   "cell_type": "markdown",
   "metadata": {},
   "source": [
    "## 示例："
   ]
  },
  {
   "cell_type": "code",
   "execution_count": null,
   "metadata": {},
   "outputs": [],
   "source": [
    "# 搜索某个房源（经纬度）周边的公交车站\n",
    "# 搜索半径：5km (radius = 5000)\n",
    "# 每页展示：10条 (page_size = 10)\n",
    "# 返回格式：json (output = json)\n",
    "# 排序方式：按照距离从近到远排序 (filter=sort_name:distance|sort_rule:1)\n",
    "\n",
    "\n",
    "url = 'http://api.map.baidu.com/place/v2/search?query=公交车站'\n",
    "com_lon=np.array(df['baidu_lng'][:])\n",
    "com_lat=np.array(df['baidu_lat'][:])\n",
    "my_listingid = np.array(df['listing_id'][:])\n",
    "\n",
    "print('start getting address data')\n",
    "\n",
    "m = 0  #可能会中途中断连接，但结果已经储存在上面的[]中了，改 m,n值即可继续爬取\n",
    "n = df.shape[0]\n",
    "\n",
    "for i in range (m, n):\n",
    "    lon = com_lon[i]\n",
    "    lat = com_lat[i]\n",
    "    listingid = my_listingid[i]\n",
    "    location = \"&location=\"+str(lat)+\",\"+str(lon)\n",
    "    URL = url + location + '&radius=5000&output=json&page_size=10&ak=您的AK&scope=2&filter=sort_name:distance|sort_rule:1'\n",
    "    response = requests.get(URL)\n",
    "    #print(URL)\n",
    "    answer = response.json()\n",
    "    if response.status_code == 200:\n",
    "        result.insert(i, answer['results']) \n",
    "        total.insert(i, answer['total'])\n",
    "        latitude.insert(i, lat)\n",
    "        longitude.insert(i, lon)\n",
    "        listing_id.insert(i, listingid)\n",
    "        print ('done for', i, '进度:', len(result), (i/df.shape[0])*100)\n",
    "        time.sleep(0.5)\n",
    "    else:\n",
    "        break\n",
    "#data = pd.DataFrame({'listing_id': listing_id,'lat':latitude, 'lng':longitude, 'total':total, 'tea': result})"
   ]
  }
 ],
 "metadata": {
  "kernelspec": {
   "display_name": "Python 3",
   "language": "python",
   "name": "python3"
  },
  "language_info": {
   "codemirror_mode": {
    "name": "ipython",
    "version": 3
   },
   "file_extension": ".py",
   "mimetype": "text/x-python",
   "name": "python",
   "nbconvert_exporter": "python",
   "pygments_lexer": "ipython3",
   "version": "3.6.7"
  }
 },
 "nbformat": 4,
 "nbformat_minor": 2
}
