{
 "cells": [
  {
   "cell_type": "markdown",
   "metadata": {},
   "source": [
    "# 百度地图API_地址查询_正地理编码功能和坐标转换"
   ]
  },
  {
   "cell_type": "markdown",
   "metadata": {},
   "source": [
    "## 需要申请密钥AK，申请完AK后请注意每日限额\n",
    "参见：\n",
    "http://lbsyun.baidu.com/index.php?title=webapi/guide/webservice-geocoding"
   ]
  },
  {
   "cell_type": "code",
   "execution_count": null,
   "metadata": {},
   "outputs": [],
   "source": [
    "import pandas as pd\n",
    "import numpy as np\n",
    "import requests\n",
    "import json\n",
    "from urllib.request import urlopen,quote\n",
    "import ast\n",
    "import time"
   ]
  },
  {
   "cell_type": "markdown",
   "metadata": {},
   "source": [
    "## 案例：成都地铁站经纬度爬取"
   ]
  },
  {
   "cell_type": "markdown",
   "metadata": {},
   "source": [
    "### 情况1：已经有list"
   ]
  },
  {
   "cell_type": "code",
   "execution_count": null,
   "metadata": {},
   "outputs": [],
   "source": [
    "chengdu_subway = ['孵化园', '安仁博物馆小镇', '宽窄巷子', '崔家店', '市二医院', '广福', '广都', '府青路',\n",
    " '建设巷', '惠王陵', '成渝立交', '成都东客站', '成都东站', '成都南站', '成都大熊猫繁育研究基地', \n",
    " '成都站', '成都行政学院', '成都西站', '文化宫', '文殊院', '新南门', '春熙路', '昭觉寺南路',\n",
    " '李家沱', '杜甫草堂', '来龙', '杨柳河', '槐树店', '武侯大道', '武侯祠', '洪河', '海昌路',               \n",
    " '涌泉', '清江西路', '火车北站', '火车南站', '熊猫大道', '牛市口', '牛王庙', '犀浦',\n",
    " '狮子山', '玉双路', '玉林路', '环球中心', '理工大学', '琉璃场', '白果林', '百草路',\n",
    " '盐市口', '省体育馆', '磨子桥', '神仙树', '红星桥', '红牌楼', '羊犀立交', '耍都',\n",
    " '花照壁', '茶店子', '茶店子客运站', '草堂北路', '蜀汉路东', '街子古镇', '衣冠庙', \n",
    " '西南交大', '西南财大', '西岭雪山', '迎宾大道', '迎晖路', '连山坡', '都江堰', \n",
    " '金周路', '金沙博物馆', '金沙遗址博物馆', '金科北路', '金花', '金融城', '锦城广场',\n",
    " '锦江宾馆', '锦里', '青城山', '青羊宫', '香香巷', '驷马桥', '骡马市', '高升桥',\n",
    " '高新', '黄龙溪古镇', '龙平路', '龙泉驿', '龙爪堰']"
   ]
  },
  {
   "cell_type": "markdown",
   "metadata": {},
   "source": [
    "### 情况2：通过dataframe 导入list"
   ]
  },
  {
   "cell_type": "code",
   "execution_count": null,
   "metadata": {},
   "outputs": [],
   "source": [
    "df = pd.read_csv('xxxxxxxx.csv')"
   ]
  },
  {
   "cell_type": "code",
   "execution_count": null,
   "metadata": {},
   "outputs": [],
   "source": [
    "chengdu_subway = df['chengdu_subway'].to_list()"
   ]
  },
  {
   "cell_type": "markdown",
   "metadata": {},
   "source": [
    "## 结果储存器"
   ]
  },
  {
   "cell_type": "code",
   "execution_count": null,
   "metadata": {},
   "outputs": [],
   "source": [
    "station = [] #存储地铁站名称\n",
    "result = [] #存储爬虫结果"
   ]
  },
  {
   "cell_type": "markdown",
   "metadata": {},
   "source": [
    "## 爬虫"
   ]
  },
  {
   "cell_type": "markdown",
   "metadata": {},
   "source": [
    "### 小批量数据：1000条以下，很少会遇到中断连接的情况"
   ]
  },
  {
   "cell_type": "code",
   "execution_count": null,
   "metadata": {
    "scrolled": true
   },
   "outputs": [],
   "source": [
    "for i, item in enumerate (chengdu_subway):\n",
    "    address = quote('成都地铁'+item+'站')  #完整搜索query，可以更改为任意“城市+地名“组合\n",
    "    city = quote('成都') #需要严格限制城市范围，可以改为任意城市\n",
    "    url = 'http://api.map.baidu.com/geocoding/v3/?address={}&output=json&ak=您的AK&callback=showLocation&city={}'.format(address,city)\n",
    "    response = urlopen(url)\n",
    "    answer = response.read().decode()\n",
    "    result.insert(i, answer)\n",
    "    station.insert(i, item)\n",
    "    time.sleep(0.5)  #爬虫间隔时间，建议0.5s以上\n",
    "    print ('done for', i, item, len(result))"
   ]
  },
  {
   "cell_type": "markdown",
   "metadata": {},
   "source": [
    "### 大量数据"
   ]
  },
  {
   "cell_type": "code",
   "execution_count": null,
   "metadata": {},
   "outputs": [],
   "source": [
    "m = 0  #如果遇到error，可以手动更改m, n值，重新启动爬虫，继续爬取\n",
    "n = df.shape[0]\n",
    "for i in range(m, n):\n",
    "    address =  quote('成都地铁'+chengdu_subway[i]+'站') #完整搜索query，可以更改为任意“城市+地名“组合\n",
    "    city = quote('成都') #需要严格限制城市范围，可以改为任意城市\n",
    "    url = 'http://api.map.baidu.com/geocoding/v3/?address={}&output=json&ak=AK&callback=showLocation&city={}'.format(address,city)\n",
    "    response = urlopen(url)\n",
    "    answer = response.read().decode()\n",
    "    result.insert(i, answer)\n",
    "    station.insert(i, item)\n",
    "    time.sleep(0.5)  #爬虫间隔时间，建议0.5s以上\n",
    "    print ('done for', i, address, len(result))"
   ]
  },
  {
   "cell_type": "markdown",
   "metadata": {},
   "source": [
    "## 结果示例"
   ]
  },
  {
   "cell_type": "markdown",
   "metadata": {},
   "source": [
    "'showLocation&&showLocation({\"status\":0,\"result\":{\"location\":{\"lng\":104.06819111612568,\"lat\":30.615559309816065},\"precise\":0,\"confidence\":60,\"comprehension\":87,\"level\":\"火车站\"}})'"
   ]
  },
  {
   "cell_type": "code",
   "execution_count": null,
   "metadata": {
    "scrolled": true
   },
   "outputs": [],
   "source": [
    "#结果转存为dataframe\n",
    "data = pd.DataFrame({'station': station, 'result':result})"
   ]
  },
  {
   "cell_type": "code",
   "execution_count": null,
   "metadata": {},
   "outputs": [],
   "source": [
    "#看是否有没有爬到数据的情况\n",
    "data.isnull().sum()"
   ]
  },
  {
   "cell_type": "markdown",
   "metadata": {},
   "source": [
    "## 结果由'showLocation&&showLocation'+字典组成，所以提取结果第26个字符以后的数据。"
   ]
  },
  {
   "cell_type": "code",
   "execution_count": null,
   "metadata": {},
   "outputs": [],
   "source": [
    "len('showLocation&&showLocation')"
   ]
  },
  {
   "cell_type": "code",
   "execution_count": null,
   "metadata": {},
   "outputs": [],
   "source": [
    "#结果为string，需要转化为dictionary\n",
    "data['list'] = data['result'].apply(lambda x: ast.literal_eval(x[26:]))"
   ]
  },
  {
   "cell_type": "code",
   "execution_count": null,
   "metadata": {},
   "outputs": [],
   "source": [
    "#提取longitude\n",
    "data['baidu_lng'] = data['list'].apply(lambda x: x['result']['location']['lng'])"
   ]
  },
  {
   "cell_type": "code",
   "execution_count": null,
   "metadata": {},
   "outputs": [],
   "source": [
    "#提取latitude\n",
    "data['baidu_lat'] = data['list'].apply(lambda x: x['result']['location']['lat'])"
   ]
  },
  {
   "cell_type": "markdown",
   "metadata": {},
   "source": [
    "## 把爬虫结果塞回自己的数据集"
   ]
  },
  {
   "cell_type": "code",
   "execution_count": null,
   "metadata": {},
   "outputs": [],
   "source": [
    "df = pd.read_csv('xxxxxxxxxxx.csv')\n",
    "#在数据集中新建对应的列\n",
    "df['lng'] = 0.00\n",
    "df['lat'] = 0.00\n",
    "for i in range(0, df.shape[0]):\n",
    "    df['lng'][i] = data['baidu_lng'][i]\n",
    "    df['lat'][i] = data['baidu_lat'][i]"
   ]
  },
  {
   "cell_type": "code",
   "execution_count": null,
   "metadata": {},
   "outputs": [],
   "source": [
    "#输出\n",
    "df.to_csv('xxxxxxxxxxxxxxx.csv', index = False, encoding = 'utf-8-sig')"
   ]
  },
  {
   "cell_type": "markdown",
   "metadata": {},
   "source": [
    "# 地理坐标转换"
   ]
  },
  {
   "cell_type": "markdown",
   "metadata": {},
   "source": [
    "转换成其他坐标系请见： https://www.jianshu.com/p/6e69737cffaa"
   ]
  },
  {
   "cell_type": "code",
   "execution_count": null,
   "metadata": {},
   "outputs": [],
   "source": [
    "import math\n",
    "x_pi = 3.14159265358979324 * 3000.0 / 180.0\n",
    "pi = 3.1415926535897932384626  # π\n",
    "a = 6378245.0  # 长半轴\n",
    "ee = 0.00669342162296594323  # 偏心率平方"
   ]
  },
  {
   "cell_type": "code",
   "execution_count": null,
   "metadata": {},
   "outputs": [],
   "source": [
    "def bd09_to_gcj02(bd_lon, bd_lat):\n",
    "    \"\"\"\n",
    "    百度坐标系(BD-09)转火星坐标系(GCJ-02)\n",
    "    百度——>谷歌、高德\n",
    "    :param bd_lat:百度坐标纬度\n",
    "    :param bd_lon:百度坐标经度\n",
    "    :return:转换后的坐标列表形式\n",
    "    \"\"\"\n",
    "    x = bd_lon - 0.0065\n",
    "    y = bd_lat - 0.006\n",
    "    z = math.sqrt(x * x + y * y) - 0.00002 * math.sin(y * x_pi)\n",
    "    theta = math.atan2(y, x) - 0.000003 * math.cos(x * x_pi)\n",
    "    gg_lng = z * math.cos(theta)\n",
    "    gg_lat = z * math.sin(theta)\n",
    "    return [gg_lng, gg_lat]"
   ]
  },
  {
   "cell_type": "code",
   "execution_count": null,
   "metadata": {},
   "outputs": [],
   "source": [
    "h = []\n",
    "for i in range(0, data.shape[0]):\n",
    "    h.insert(i, bd09_to_gcj02(data['baidu_lng'][i], data['baidu_lat'][i]))"
   ]
  },
  {
   "cell_type": "code",
   "execution_count": null,
   "metadata": {},
   "outputs": [],
   "source": [
    "data['gd_lng'] = 0.00\n",
    "data['gd_lat'] = 0.00\n",
    "for i in range(0, data.shape[0]):\n",
    "    data['gd_lng'][i] = h[i][0]\n",
    "    data['gd_lat'][i] = h[i][1]"
   ]
  },
  {
   "cell_type": "code",
   "execution_count": null,
   "metadata": {},
   "outputs": [],
   "source": [
    "#输出\n",
    "data.to_csv('xxxxxxxxxxxxx.csv', index = False, encoding = 'utf-8-sig')"
   ]
  }
 ],
 "metadata": {
  "kernelspec": {
   "display_name": "Python 3",
   "language": "python",
   "name": "python3"
  },
  "language_info": {
   "codemirror_mode": {
    "name": "ipython",
    "version": 3
   },
   "file_extension": ".py",
   "mimetype": "text/x-python",
   "name": "python",
   "nbconvert_exporter": "python",
   "pygments_lexer": "ipython3",
   "version": "3.6.7"
  }
 },
 "nbformat": 4,
 "nbformat_minor": 2
}
