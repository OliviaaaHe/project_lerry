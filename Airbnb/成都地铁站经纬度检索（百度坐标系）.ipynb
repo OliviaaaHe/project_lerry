{
 "cells": [
  {
   "cell_type": "markdown",
   "metadata": {},
   "source": [
    "# 成都地铁站经纬度检索（百度坐标系）"
   ]
  },
  {
   "cell_type": "code",
   "execution_count": null,
   "metadata": {},
   "outputs": [],
   "source": [
    "import pandas as pd\n",
    "import numpy as np\n",
    "import requests\n",
    "import json\n",
    "from urllib.request import urlopen,quote\n",
    "import ast\n",
    "import time"
   ]
  },
  {
   "cell_type": "markdown",
   "metadata": {},
   "source": [
    "## 成都地铁站名称"
   ]
  },
  {
   "cell_type": "code",
   "execution_count": null,
   "metadata": {},
   "outputs": [],
   "source": [
    "chengdu_subway = ['孵化园', '安仁博物馆小镇', '宽窄巷子', '崔家店', '市二医院', '广福', '广都', '府青路',\n",
    " '建设巷', '惠王陵', '成渝立交', '成都东客站', '成都东站', '成都南站', '成都大熊猫繁育研究基地', \n",
    " '成都站', '成都行政学院', '成都西站', '文化宫', '文殊院', '新南门', '春熙路', '昭觉寺南路',\n",
    " '李家沱', '杜甫草堂', '来龙', '杨柳河', '槐树店', '武侯大道', '武侯祠', '洪河', '海昌路',               \n",
    " '涌泉', '清江西路', '火车北站', '火车南站', '熊猫大道', '牛市口', '牛王庙', '犀浦',\n",
    " '狮子山', '玉双路', '玉林路', '环球中心', '理工大学', '琉璃场', '白果林', '百草路',\n",
    " '盐市口', '省体育馆', '磨子桥', '神仙树', '红星桥', '红牌楼', '羊犀立交', '耍都',\n",
    " '花照壁', '茶店子', '茶店子客运站', '草堂北路', '蜀汉路东', '街子古镇', '衣冠庙', \n",
    " '西南交大', '西南财大', '西岭雪山', '迎宾大道', '迎晖路', '连山坡', '都江堰', \n",
    " '金周路', '金沙博物馆', '金沙遗址博物馆', '金科北路', '金花', '金融城', '锦城广场',\n",
    " '锦江宾馆', '锦里', '青城山', '青羊宫', '香香巷', '驷马桥', '骡马市', '高升桥',\n",
    " '高新', '黄龙溪古镇', '龙平路', '龙泉驿', '龙爪堰']"
   ]
  },
  {
   "cell_type": "markdown",
   "metadata": {},
   "source": [
    "## 结果储存器"
   ]
  },
  {
   "cell_type": "code",
   "execution_count": null,
   "metadata": {},
   "outputs": [],
   "source": [
    "station = []\n",
    "baidu_lng = []\n",
    "baidu_lat = []\n",
    "result = []"
   ]
  },
  {
   "cell_type": "markdown",
   "metadata": {},
   "source": [
    "## 爬虫"
   ]
  },
  {
   "cell_type": "code",
   "execution_count": null,
   "metadata": {
    "scrolled": true
   },
   "outputs": [],
   "source": [
    "for i, item in enumerate (chengdu_subway):\n",
    "    address = quote('成都地铁'+item+'站')\n",
    "    city = quote('成都')\n",
    "    url = 'http://api.map.baidu.com/geocoding/v3/?address={}&output=json&ak=2G8KFxzYwbtEkLX4cx51RXQlQvn3pXOE&callback=showLocation&city={}'.format(address,city)\n",
    "    response = urlopen(url)\n",
    "    answer = response.read().decode()\n",
    "    result.insert(i, answer)\n",
    "    station.insert(i, item)\n",
    "    time.sleep(0.5)\n",
    "    print ('done for', i, item, len(result))"
   ]
  },
  {
   "cell_type": "markdown",
   "metadata": {},
   "source": [
    "## 结果示例"
   ]
  },
  {
   "cell_type": "markdown",
   "metadata": {},
   "source": [
    "'showLocation&&showLocation({\"status\":0,\"result\":{\"location\":{\"lng\":104.06819111612568,\"lat\":30.615559309816065},\"precise\":0,\"confidence\":60,\"comprehension\":87,\"level\":\"火车站\"}})'"
   ]
  },
  {
   "cell_type": "code",
   "execution_count": null,
   "metadata": {
    "scrolled": true
   },
   "outputs": [],
   "source": [
    "data = pd.DataFrame({'station': station, 'result':result})"
   ]
  },
  {
   "cell_type": "code",
   "execution_count": null,
   "metadata": {},
   "outputs": [],
   "source": [
    "data.isnull().sum()"
   ]
  },
  {
   "cell_type": "markdown",
   "metadata": {},
   "source": [
    "## 结果由'showLocation&&showLocation'+字典组成，所以提取结果第26个字符以后的数据。"
   ]
  },
  {
   "cell_type": "code",
   "execution_count": null,
   "metadata": {},
   "outputs": [],
   "source": [
    "len('showLocation&&showLocation')"
   ]
  },
  {
   "cell_type": "code",
   "execution_count": null,
   "metadata": {},
   "outputs": [],
   "source": [
    "data['list'] = data['result'].apply(lambda x: ast.literal_eval(x[26:]))"
   ]
  },
  {
   "cell_type": "code",
   "execution_count": null,
   "metadata": {},
   "outputs": [],
   "source": [
    "data['baidu_lng'] = data['list'].apply(lambda x: x['result']['location']['lng'])"
   ]
  },
  {
   "cell_type": "code",
   "execution_count": null,
   "metadata": {},
   "outputs": [],
   "source": [
    "data['baidu_lat'] = data['list'].apply(lambda x: x['result']['location']['lat'])"
   ]
  },
  {
   "cell_type": "markdown",
   "metadata": {},
   "source": [
    "# 地理坐标转换"
   ]
  },
  {
   "cell_type": "markdown",
   "metadata": {},
   "source": [
    "转换成其他坐标系请见： https://www.jianshu.com/p/6e69737cffaa"
   ]
  },
  {
   "cell_type": "code",
   "execution_count": null,
   "metadata": {},
   "outputs": [],
   "source": [
    "import math\n",
    "x_pi = 3.14159265358979324 * 3000.0 / 180.0\n",
    "pi = 3.1415926535897932384626  # π\n",
    "a = 6378245.0  # 长半轴\n",
    "ee = 0.00669342162296594323  # 偏心率平方"
   ]
  },
  {
   "cell_type": "code",
   "execution_count": null,
   "metadata": {},
   "outputs": [],
   "source": [
    "def bd09_to_gcj02(bd_lon, bd_lat):\n",
    "    \"\"\"\n",
    "    百度坐标系(BD-09)转火星坐标系(GCJ-02)\n",
    "    百度——>谷歌、高德\n",
    "    :param bd_lat:百度坐标纬度\n",
    "    :param bd_lon:百度坐标经度\n",
    "    :return:转换后的坐标列表形式\n",
    "    \"\"\"\n",
    "    x = bd_lon - 0.0065\n",
    "    y = bd_lat - 0.006\n",
    "    z = math.sqrt(x * x + y * y) - 0.00002 * math.sin(y * x_pi)\n",
    "    theta = math.atan2(y, x) - 0.000003 * math.cos(x * x_pi)\n",
    "    gg_lng = z * math.cos(theta)\n",
    "    gg_lat = z * math.sin(theta)\n",
    "    return [gg_lng, gg_lat]"
   ]
  },
  {
   "cell_type": "code",
   "execution_count": null,
   "metadata": {},
   "outputs": [],
   "source": [
    "h = []\n",
    "for i in range(0, data.shape[0]):\n",
    "    h.insert(i, bd09_to_gcj02(data['baidu_lng'][i], data['baidu_lat'][i]))"
   ]
  },
  {
   "cell_type": "code",
   "execution_count": null,
   "metadata": {},
   "outputs": [],
   "source": [
    "data['gd_lng'] = 0.00\n",
    "data['gd_lat'] = 0.00\n",
    "for i in range(0, data.shape[0]):\n",
    "    data['gd_lng'][i] = h[i][0]\n",
    "    data['gd_lat'][i] = h[i][1]"
   ]
  },
  {
   "cell_type": "code",
   "execution_count": null,
   "metadata": {},
   "outputs": [],
   "source": [
    "data.to_csv('chengdu_subway_gaode.csv', index = False, encoding = 'utf-8-sig')"
   ]
  }
 ],
 "metadata": {
  "kernelspec": {
   "display_name": "Python 3",
   "language": "python",
   "name": "python3"
  },
  "language_info": {
   "codemirror_mode": {
    "name": "ipython",
    "version": 3
   },
   "file_extension": ".py",
   "mimetype": "text/x-python",
   "name": "python",
   "nbconvert_exporter": "python",
   "pygments_lexer": "ipython3",
   "version": "3.6.7"
  }
 },
 "nbformat": 4,
 "nbformat_minor": 2
}
