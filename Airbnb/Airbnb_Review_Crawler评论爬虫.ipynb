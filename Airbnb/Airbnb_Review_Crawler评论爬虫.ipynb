{
 "cells": [
  {
   "cell_type": "markdown",
   "metadata": {},
   "source": [
    "# AIRBNB 评论爬虫"
   ]
  },
  {
   "cell_type": "markdown",
   "metadata": {},
   "source": [
    "## 思路：\n",
    "\n",
    "1. 获取AIRBNB房源的基本信息，特别是listing_id（房源唯一编号）, reviews_count（这个房源一共有多少评论）\n",
    "\n",
    "\n",
    "2. 通过listing_id构造url\n",
    "\n",
    "\n",
    "3. 通过reviews_count实现翻页"
   ]
  },
  {
   "cell_type": "code",
   "execution_count": null,
   "metadata": {},
   "outputs": [],
   "source": [
    "import requests\n",
    "import pandas as pd\n",
    "import json\n",
    "import math\n",
    "import time\n",
    "import random\n",
    "import numpy as np"
   ]
  },
  {
   "cell_type": "markdown",
   "metadata": {},
   "source": [
    "## 读取dataset"
   ]
  },
  {
   "cell_type": "code",
   "execution_count": 3,
   "metadata": {},
   "outputs": [
    {
     "data": {
      "text/plain": [
       "(12532, 10)"
      ]
     },
     "execution_count": 3,
     "metadata": {},
     "output_type": "execute_result"
    }
   ],
   "source": [
    "df = pd.read_csv('chengdu_listing_complete.csv')\n",
    "df.shape"
   ]
  },
  {
   "cell_type": "code",
   "execution_count": 4,
   "metadata": {},
   "outputs": [
    {
     "data": {
      "text/html": [
       "<div>\n",
       "<style scoped>\n",
       "    .dataframe tbody tr th:only-of-type {\n",
       "        vertical-align: middle;\n",
       "    }\n",
       "\n",
       "    .dataframe tbody tr th {\n",
       "        vertical-align: top;\n",
       "    }\n",
       "\n",
       "    .dataframe thead th {\n",
       "        text-align: right;\n",
       "    }\n",
       "</style>\n",
       "<table border=\"1\" class=\"dataframe\">\n",
       "  <thead>\n",
       "    <tr style=\"text-align: right;\">\n",
       "      <th></th>\n",
       "      <th>listing_id</th>\n",
       "      <th>latitude</th>\n",
       "      <th>longitude</th>\n",
       "      <th>neigh</th>\n",
       "      <th>accomdates</th>\n",
       "      <th>price</th>\n",
       "      <th>rate_type</th>\n",
       "      <th>reviews_count</th>\n",
       "      <th>star_rating</th>\n",
       "      <th>create_time</th>\n",
       "    </tr>\n",
       "  </thead>\n",
       "  <tbody>\n",
       "    <tr>\n",
       "      <th>0</th>\n",
       "      <td>36195217</td>\n",
       "      <td>30.67412</td>\n",
       "      <td>103.81930</td>\n",
       "      <td>中国四川省成都市涌泉</td>\n",
       "      <td>2</td>\n",
       "      <td>159.0</td>\n",
       "      <td>nightly</td>\n",
       "      <td>5</td>\n",
       "      <td>5.00</td>\n",
       "      <td>2019-08-05 13:27:00</td>\n",
       "    </tr>\n",
       "    <tr>\n",
       "      <th>1</th>\n",
       "      <td>23616507</td>\n",
       "      <td>30.67425</td>\n",
       "      <td>103.81968</td>\n",
       "      <td>中国四川省成都市涌泉</td>\n",
       "      <td>2</td>\n",
       "      <td>139.0</td>\n",
       "      <td>nightly</td>\n",
       "      <td>27</td>\n",
       "      <td>4.89</td>\n",
       "      <td>2019-08-05 13:27:00</td>\n",
       "    </tr>\n",
       "  </tbody>\n",
       "</table>\n",
       "</div>"
      ],
      "text/plain": [
       "   listing_id  latitude  longitude       neigh  accomdates  price rate_type  \\\n",
       "0    36195217  30.67412  103.81930  中国四川省成都市涌泉           2  159.0   nightly   \n",
       "1    23616507  30.67425  103.81968  中国四川省成都市涌泉           2  139.0   nightly   \n",
       "\n",
       "   reviews_count  star_rating          create_time  \n",
       "0              5         5.00  2019-08-05 13:27:00  \n",
       "1             27         4.89  2019-08-05 13:27:00  "
      ]
     },
     "execution_count": 4,
     "metadata": {},
     "output_type": "execute_result"
    }
   ],
   "source": [
    "df.head(2)"
   ]
  },
  {
   "cell_type": "markdown",
   "metadata": {},
   "source": [
    "## 爬虫结果存储器"
   ]
  },
  {
   "cell_type": "code",
   "execution_count": null,
   "metadata": {},
   "outputs": [],
   "source": [
    "listing_id = [] #储存listing_id，每个房源唯一的编号\n",
    "comment_id =[] #储存comment_id，每条评论唯一的编号\n",
    "rating = [] #该房客给的评分，范围为0~5\n",
    "comment = [] #评论文本\n",
    "created_at = [] #评论产生时间"
   ]
  },
  {
   "cell_type": "markdown",
   "metadata": {},
   "source": [
    "## 爬虫"
   ]
  },
  {
   "cell_type": "code",
   "execution_count": null,
   "metadata": {},
   "outputs": [],
   "source": [
    "def myRequestGet(url,num_retries=5):\n",
    "    try:\n",
    "        html = requests.get(url,timeout=8)\n",
    "    except Exception as e :\n",
    "        print('出错重试 {0}'.format(e))\n",
    "        response = None\n",
    "        if num_retries > 0:\n",
    "            return myRequestGet(url, num_retries-1)\n",
    "    return html"
   ]
  },
  {
   "cell_type": "code",
   "execution_count": null,
   "metadata": {
    "scrolled": true
   },
   "outputs": [],
   "source": [
    "id_list = np.array(df['listing_id'][:])\n",
    "reviews_count = np.array(df['reviews_count'][:])\n",
    "\n",
    "head = 0 #爬虫停止时，可以修改head, tail值，重新启动爬虫，输错不影响结果\n",
    "tail = len(id_list)\n",
    "\n",
    "for i in range(head,len(id_list)):\n",
    "    my_id = id_list[i]\n",
    "    max_page = math.ceil(reviews_count[i]/100)  #该房源的评论一共有多少页\n",
    "    url = 'https://zh.airbnb.com/api/v2/reviews?key=d306zoyjsyarp7ifhu67rjxn52tv0t20&currency=CNY&locale=zh&listing_id={}'.format(my_id)\n",
    "    for k in range(0,  max_page):\n",
    "        URL = url + '&role=guest&_format=for_p3&_limit=100&_offset=' + str(k * 100) + '&_order=language_country'\n",
    "        response = myRequestGet(URL)\n",
    "        if response.status_code == 200:\n",
    "            answer = response.json()\n",
    "            buffer = answer['reviews']\n",
    "            for m in range(0, 100):\n",
    "                try:  #储存结果至储存器中，注意用的是append，反复爬取不影响结果\n",
    "                    comment.append(buffer[m]['comments'])\n",
    "                    comment_id.append(buffer[m]['id'])\n",
    "                    rating.append(buffer[m]['rating'])\n",
    "                    created_at.append(buffer[m]['created_at'])\n",
    "                    listing_id.append(my_id)\n",
    "                except IndexError as e:\n",
    "                    continue\n",
    "        print('id:',my_id,' ', 'num of reviews in total:',reviews_count[i],'max_page:',max_page, 'the {} page of id {} is OK!'.format(k+1,i))\n",
    "    review = pd.DataFrame({'listing_id':listing_id, 'comment_id': comment_id, \n",
    "                        'rating': rating, 'comment':comment, 'created_at': created_at})\n",
    "    #每爬完一个房子的评论，写入一次csv\n",
    "    review.to_csv('chengdu_reviews.csv', index = False, encoding = 'utf-8_sig')\n",
    "    print('进度：', ((i+1)/df.shape[0])*100,\"%\")\n",
    "    time.sleep(random.randint(0,2))  #爬虫休息时间"
   ]
  },
  {
   "cell_type": "markdown",
   "metadata": {},
   "source": [
    "## 评论去重"
   ]
  },
  {
   "cell_type": "code",
   "execution_count": 21,
   "metadata": {},
   "outputs": [
    {
     "data": {
      "text/plain": [
       "(202961, 5)"
      ]
     },
     "execution_count": 21,
     "metadata": {},
     "output_type": "execute_result"
    }
   ],
   "source": [
    "review.shape"
   ]
  },
  {
   "cell_type": "code",
   "execution_count": 22,
   "metadata": {},
   "outputs": [
    {
     "data": {
      "text/plain": [
       "(202829, 5)"
      ]
     },
     "execution_count": 22,
     "metadata": {},
     "output_type": "execute_result"
    }
   ],
   "source": [
    "review_new = review.drop_duplicates(subset='comment_id')\n",
    "review_new.shape"
   ]
  }
 ],
 "metadata": {
  "kernelspec": {
   "display_name": "Python 3",
   "language": "python",
   "name": "python3"
  },
  "language_info": {
   "codemirror_mode": {
    "name": "ipython",
    "version": 3
   },
   "file_extension": ".py",
   "mimetype": "text/x-python",
   "name": "python",
   "nbconvert_exporter": "python",
   "pygments_lexer": "ipython3",
   "version": "3.6.7"
  }
 },
 "nbformat": 4,
 "nbformat_minor": 2
}
